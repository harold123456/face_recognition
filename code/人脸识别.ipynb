{
 "cells": [
  {
   "cell_type": "code",
   "execution_count": 1,
   "metadata": {
    "collapsed": true
   },
   "outputs": [],
   "source": [
    "import os\n",
    "from numpy import *\n",
    "import numpy as np\n",
    "import cv2"
   ]
  },
  {
   "cell_type": "code",
   "execution_count": 2,
   "metadata": {
    "collapsed": true
   },
   "outputs": [],
   "source": [
    "#首先将个别人图片少于七张的进行任选一张补充，将69号的图片名进行改正\n",
    "def img2vector(image):\n",
    "    img=cv2.imread(image,0)#读取图片\n",
    "    rows,cols=img.shape\n",
    "    imgVector = np.zeros((1,rows*cols))\n",
    "    imgVector = np.reshape(img,(1,rows*cols))\n",
    "    return imgVector\n",
    "\n",
    "orlpath=\"C:/Users/ThinkPad/Desktop/database\"\n",
    "k=6\n",
    "#读入人脸库,每个人随机选择k张作为训练集,其余构成测试集\n",
    "def load_orl(k):\n",
    "    '''\n",
    "    对训练数据集进行数组初始化，用0填充，每张图片尺寸都定为640*480,\n",
    "    现在共有114个人，每个人都选择6张，则整个训练集大小为114*6,640*480\n",
    "\n",
    "    '''\n",
    "    train_face=np.zeros((114*k,640*480))\n",
    "    train_label=np.zeros(114*k)#[0,0,.....0](共114*k个0)\n",
    "    test_face=np.zeros((114*(7-k),640*480))\n",
    "    test_label=np.zeros(114*(7-k))\n",
    "    for i in range(114):#114个人\n",
    "        people_num=i+1\n",
    "        for j in range(7):#每个人都有7张照片\n",
    "            image=orlpath+'/'+str(people_num)+'/MVC-00'+str(j+1)+'F.jpg'\n",
    "            #读取图片并进行矢量化\n",
    "            img=img2vector(image)\n",
    "            if j<k:              \n",
    "                #构成训练集\n",
    "                train_face[i*k+j,:] = img\n",
    "                train_label[i*k+j] =people_num\n",
    "            else:\n",
    "                #构成测试集     \n",
    "                test_face[i*(7-k)+(j-k),:] = img\n",
    "                test_label[i*(7-k)+(j-k)] = people_num\n",
    "\n",
    "    return train_face,train_label,test_face,test_label\n",
    "\n",
    "def PCA(data,r):\n",
    "    data=np.float32(np.mat(data))\n",
    "    rows,cols=np.shape(data)\n",
    "    data_mean=np.mean(data,0)#对列求平均值\n",
    "    A=data-np.tile(data_mean,(rows,1))#将所有样例减去对应均值得到A\n",
    "    C=A*A.T #得到协方差矩阵\n",
    "    D,V=np.linalg.eig(C)#求协方差矩阵的特征值和特征向量\n",
    "    V_r=V[:,0:r]#按列取前r个特征向量\n",
    "    V_r=A.T*V_r#小矩阵特征向量向大矩阵特征向量过渡\n",
    "    for i in range(r):\n",
    "        V_r[:,i]=V_r[:,i]/np.linalg.norm(V_r[:,i])#特征向量归一化\n",
    "    \n",
    "    final_data=A*V_r\n",
    "    return final_data,data_mean,V_r\n",
    "\n",
    "\n",
    "\n",
    "#人脸识别\n",
    "def face_rec():\n",
    "    r=60#最多有114维，此处选择降到60维\n",
    "    print(\"当降维到%d时\"%(r))\n",
    "    x_value=[]\n",
    "    y_value=[]\n",
    "    train_face,train_label,test_face,test_label=load_orl(k)#得到数据集\n",
    "        \n",
    "    #利用PCA算法进行训练\n",
    "    data_train_new,data_mean,V_r=PCA(train_face,r)\n",
    "    num_train = data_train_new.shape[0]#训练脸总数\n",
    "    num_test = test_face.shape[0]#测试脸总数\n",
    "    temp_face = test_face - np.tile(data_mean,(num_test,1))\n",
    "    data_test_new = temp_face*V_r #得到测试脸在特征向量下的数据\n",
    "    data_test_new = np.array(data_test_new) # mat change to array\n",
    "    data_train_new = np.array(data_train_new)\n",
    "    \n",
    "    #测试准确度\n",
    "    true_num = 0\n",
    "    for i in range(num_test):\n",
    "        testFace = data_test_new[i,:]\n",
    "        diffMat = data_train_new - np.tile(testFace,(num_train,1))#训练数据与测试脸之间距离\n",
    "        sqDiffMat = diffMat**2\n",
    "        sqDistances = sqDiffMat.sum(axis=1)#按行求和\n",
    "        sortedDistIndicies = sqDistances.argsort()#对向量从小到大排序，使用的是索引值,得到一个向量\n",
    "        indexMin = sortedDistIndicies[0]#距离最近的索引\n",
    "        if train_label[indexMin] == test_label[i]:\n",
    "            true_num += 1\n",
    "        else:\n",
    "            pass\n",
    "\n",
    "    accuracy = float(true_num)/num_test\n",
    "    x_value.append(k)\n",
    "    y_value.append(round(accuracy,2))\n",
    "    \n",
    "    print ('当每个人选择%d张照片进行训练时，The classify accuracy is: %.2f%%'%(k,accuracy * 100))"
   ]
  },
  {
   "cell_type": "code",
   "execution_count": 3,
   "metadata": {},
   "outputs": [
    {
     "name": "stdout",
     "output_type": "stream",
     "text": [
      "当降维到60时\n",
      "当每个人选择6张照片进行训练时，The classify accuracy is: 52.63%\n"
     ]
    }
   ],
   "source": [
    "face_rec()"
   ]
  }
 ],
 "metadata": {
  "kernelspec": {
   "display_name": "Python 3",
   "language": "python",
   "name": "python3"
  },
  "language_info": {
   "codemirror_mode": {
    "name": "ipython",
    "version": 3
   },
   "file_extension": ".py",
   "mimetype": "text/x-python",
   "name": "python",
   "nbconvert_exporter": "python",
   "pygments_lexer": "ipython3",
   "version": "3.5.4"
  }
 },
 "nbformat": 4,
 "nbformat_minor": 2
}
